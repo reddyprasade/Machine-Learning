{
 "cells": [
  {
   "cell_type": "code",
   "execution_count": 1,
   "id": "f7deeb22-59ad-4b03-bf7b-c351588acec6",
   "metadata": {},
   "outputs": [],
   "source": [
    "import numpy as np"
   ]
  },
  {
   "cell_type": "code",
   "execution_count": 2,
   "id": "62951831-d2dd-48ba-b0c3-498229a347d3",
   "metadata": {},
   "outputs": [],
   "source": [
    "x = np.array([1,2,3,4,5])\n",
    "y= np.array([2,4,5,4,5])"
   ]
  },
  {
   "cell_type": "code",
   "execution_count": 3,
   "id": "353fe3c5-5a37-4ee3-bf26-d77cca2ded08",
   "metadata": {},
   "outputs": [
    {
     "data": {
      "text/plain": [
       "(5,)"
      ]
     },
     "execution_count": 3,
     "metadata": {},
     "output_type": "execute_result"
    }
   ],
   "source": [
    "x.shape"
   ]
  },
  {
   "cell_type": "code",
   "execution_count": 4,
   "id": "29b0cd9c-21e9-4eca-ae9f-d7b5a788cff5",
   "metadata": {},
   "outputs": [
    {
     "data": {
      "text/plain": [
       "(5,)"
      ]
     },
     "execution_count": 4,
     "metadata": {},
     "output_type": "execute_result"
    }
   ],
   "source": [
    "y.shape"
   ]
  },
  {
   "cell_type": "code",
   "execution_count": 5,
   "id": "d150ece6-00d2-4e83-8503-52748a67e7f6",
   "metadata": {},
   "outputs": [
    {
     "data": {
      "text/plain": [
       "3.0"
      ]
     },
     "execution_count": 5,
     "metadata": {},
     "output_type": "execute_result"
    }
   ],
   "source": [
    "X_mean = np.mean(x)  # X Bar\n",
    "X_mean"
   ]
  },
  {
   "cell_type": "code",
   "execution_count": 6,
   "id": "4d7f089b-9fed-4aac-8cc1-d144a6f7d8fa",
   "metadata": {},
   "outputs": [],
   "source": [
    "y_mean = np.mean(y)"
   ]
  },
  {
   "cell_type": "code",
   "execution_count": 7,
   "id": "7c9c7cee-f3f7-498f-966a-6368a0e68def",
   "metadata": {},
   "outputs": [
    {
     "data": {
      "text/plain": [
       "4.0"
      ]
     },
     "execution_count": 7,
     "metadata": {},
     "output_type": "execute_result"
    }
   ],
   "source": [
    "y_mean"
   ]
  },
  {
   "cell_type": "code",
   "execution_count": 8,
   "id": "f4ff02b6-0669-4358-accb-9cf0da2b8519",
   "metadata": {},
   "outputs": [
    {
     "data": {
      "text/plain": [
       "array([-2., -1.,  0.,  1.,  2.])"
      ]
     },
     "execution_count": 8,
     "metadata": {},
     "output_type": "execute_result"
    }
   ],
   "source": [
    "X_minu_X_bar  = x-X_mean\n",
    "X_minu_X_bar"
   ]
  },
  {
   "cell_type": "code",
   "execution_count": 9,
   "id": "c4c0f12a-8a1b-4902-9836-57fbfb67f901",
   "metadata": {},
   "outputs": [
    {
     "data": {
      "text/plain": [
       "array([-2.,  0.,  1.,  0.,  1.])"
      ]
     },
     "execution_count": 9,
     "metadata": {},
     "output_type": "execute_result"
    }
   ],
   "source": [
    "Y_minu_Y_bar = y-y_mean\n",
    "Y_minu_Y_bar"
   ]
  },
  {
   "cell_type": "code",
   "execution_count": 10,
   "id": "e4f96d89-c914-44a3-8762-dff4900c0532",
   "metadata": {},
   "outputs": [
    {
     "data": {
      "text/plain": [
       "array([4., 1., 0., 1., 4.])"
      ]
     },
     "execution_count": 10,
     "metadata": {},
     "output_type": "execute_result"
    }
   ],
   "source": [
    "X_minu_X_bar_square = X_minu_X_bar**2\n",
    "X_minu_X_bar_square"
   ]
  },
  {
   "cell_type": "code",
   "execution_count": 11,
   "id": "a9ff44b1-65fa-4f81-b50b-65ab867a7e97",
   "metadata": {},
   "outputs": [
    {
     "data": {
      "text/plain": [
       "10.0"
      ]
     },
     "execution_count": 11,
     "metadata": {},
     "output_type": "execute_result"
    }
   ],
   "source": [
    "sum_of_X_minu_X_bar_square = np.sum(X_minu_X_bar_square)\n",
    "sum_of_X_minu_X_bar_square"
   ]
  },
  {
   "cell_type": "code",
   "execution_count": 12,
   "id": "04f97a06-3eca-414b-be34-0187a7182b33",
   "metadata": {},
   "outputs": [
    {
     "data": {
      "text/plain": [
       "array([ 4., -0.,  0.,  0.,  2.])"
      ]
     },
     "execution_count": 12,
     "metadata": {},
     "output_type": "execute_result"
    }
   ],
   "source": [
    "X_minu_X_bar_Y_minu_Y_bar = (X_minu_X_bar)*(Y_minu_Y_bar)\n",
    "X_minu_X_bar_Y_minu_Y_bar"
   ]
  },
  {
   "cell_type": "code",
   "execution_count": 13,
   "id": "946176f0-20b9-43d4-9edc-00ca609017f8",
   "metadata": {},
   "outputs": [
    {
     "data": {
      "text/plain": [
       "6.0"
      ]
     },
     "execution_count": 13,
     "metadata": {},
     "output_type": "execute_result"
    }
   ],
   "source": [
    "sum_X_minu_X_bar_Y_minu_Y_bar = np.sum(X_minu_X_bar_Y_minu_Y_bar)\n",
    "sum_X_minu_X_bar_Y_minu_Y_bar"
   ]
  },
  {
   "cell_type": "code",
   "execution_count": 14,
   "id": "3cd5c5b4-356b-4e14-9206-f6c9f75e545b",
   "metadata": {},
   "outputs": [
    {
     "data": {
      "text/plain": [
       "0.6"
      ]
     },
     "execution_count": 14,
     "metadata": {},
     "output_type": "execute_result"
    }
   ],
   "source": [
    "beta_1 = sum_X_minu_X_bar_Y_minu_Y_bar / sum_of_X_minu_X_bar_square\n",
    "beta_1"
   ]
  },
  {
   "cell_type": "code",
   "execution_count": 15,
   "id": "7e39152c-5992-42e5-b884-50c504bb693c",
   "metadata": {},
   "outputs": [
    {
     "data": {
      "text/plain": [
       "2.2"
      ]
     },
     "execution_count": 15,
     "metadata": {},
     "output_type": "execute_result"
    }
   ],
   "source": [
    "beta_0 = y_mean - beta_1*(X_mean)\n",
    "beta_0"
   ]
  },
  {
   "cell_type": "code",
   "execution_count": 16,
   "id": "ff4cee8e-e04f-4b36-872f-66b2654dcd96",
   "metadata": {},
   "outputs": [],
   "source": [
    "X_new = 10"
   ]
  },
  {
   "cell_type": "code",
   "execution_count": 17,
   "id": "891c11dc-e38c-44c6-ad4f-c00f0ffeffad",
   "metadata": {},
   "outputs": [
    {
     "data": {
      "text/plain": [
       "8.2"
      ]
     },
     "execution_count": 17,
     "metadata": {},
     "output_type": "execute_result"
    }
   ],
   "source": [
    "Y_hat = beta_0 + beta_1*(X_new)\n",
    "Y_hat"
   ]
  },
  {
   "cell_type": "code",
   "execution_count": 18,
   "id": "b2fe7509-9dd2-4edd-8595-d8da32754e4a",
   "metadata": {},
   "outputs": [],
   "source": [
    "def linear(feature,target,x_new):\n",
    "    x =feature \n",
    "    y= target\n",
    "    X_mean = np.mean(x)  # X Bar\n",
    "    y_mean = np.mean(y)\n",
    "    X_minu_X_bar  = x-X_mean\n",
    "    Y_minu_Y_bar = y-y_mean\n",
    "    X_minu_X_bar_square = X_minu_X_bar**2\n",
    "    sum_of_X_minu_X_bar_square = np.sum(X_minu_X_bar_square)\n",
    "    X_minu_X_bar_Y_minu_Y_bar = (X_minu_X_bar)*(Y_minu_Y_bar)\n",
    "    sum_X_minu_X_bar_Y_minu_Y_bar = np.sum(X_minu_X_bar_Y_minu_Y_bar)\n",
    "    beta_1 = sum_X_minu_X_bar_Y_minu_Y_bar / sum_of_X_minu_X_bar_square\n",
    "    beta_0 = y_mean - beta_1*(X_mean)\n",
    "    Y_hat = beta_0 + beta_1*(X_new)\n",
    "    return {'beta_0':beta_0,'beta_1':beta_1,'predication':Y_hat,'x':x_new}"
   ]
  },
  {
   "cell_type": "code",
   "execution_count": 19,
   "id": "45429c73-7bcb-4862-b677-6eb45d8ed0a5",
   "metadata": {},
   "outputs": [],
   "source": [
    "x = np.array([1,2,3,4,5])\n",
    "y = np.array([2,4,5,4,5])"
   ]
  },
  {
   "cell_type": "code",
   "execution_count": 20,
   "id": "1092cd68-2317-4686-9dad-b1fcca32543e",
   "metadata": {},
   "outputs": [],
   "source": [
    "X_new = 55"
   ]
  },
  {
   "cell_type": "code",
   "execution_count": 21,
   "id": "f7f80837-e92c-417e-8de9-e47ebe22a222",
   "metadata": {},
   "outputs": [
    {
     "data": {
      "text/plain": [
       "{'beta_0': 2.2, 'beta_1': 0.6, 'predication': 35.2, 'x': 55}"
      ]
     },
     "execution_count": 21,
     "metadata": {},
     "output_type": "execute_result"
    }
   ],
   "source": [
    "linear(feature=x,target=y,x_new= X_new)"
   ]
  },
  {
   "cell_type": "code",
   "execution_count": null,
   "id": "aa021405-849d-49a9-968a-4a58262dd44c",
   "metadata": {},
   "outputs": [],
   "source": []
  }
 ],
 "metadata": {
  "kernelspec": {
   "display_name": "Python 3 (ipykernel)",
   "language": "python",
   "name": "python3"
  },
  "language_info": {
   "codemirror_mode": {
    "name": "ipython",
    "version": 3
   },
   "file_extension": ".py",
   "mimetype": "text/x-python",
   "name": "python",
   "nbconvert_exporter": "python",
   "pygments_lexer": "ipython3",
   "version": "3.9.0"
  }
 },
 "nbformat": 4,
 "nbformat_minor": 5
}
